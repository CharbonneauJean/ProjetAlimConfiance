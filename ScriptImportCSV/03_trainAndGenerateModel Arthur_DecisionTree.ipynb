{
 "cells": [
  {
   "cell_type": "code",
   "execution_count": null,
   "metadata": {},
   "outputs": [],
   "source": [
    "import pandas as pd\n",
    "import numpy as np\n",
    "import model\n",
    "import seaborn as sns\n",
    "import matplotlib.pyplot as plt\n",
    "\n",
    "from sklearn import metrics\n",
    "from sklearn.metrics import plot_confusion_matrix\n",
    "from sklearn.model_selection import train_test_split\n",
    "from sklearn.preprocessing import LabelEncoder\n",
    "from sklearn.tree import DecisionTreeClassifier\n",
    "from sklearn.tree import export_text\n",
    "from sklearn.tree import plot_tree\n",
    "from sklearn.ensemble import RandomForestClassifier\n",
    "from sklearn.metrics import classification_report\n",
    "from yellowbrick.classifier import ConfusionMatrix\n",
    "from yellowbrick.features import Rank2D\n"
   ]
  },
  {
   "cell_type": "code",
   "execution_count": null,
   "metadata": {},
   "outputs": [],
   "source": [
    "sqlForTraining = \"\"\"\n",
    "select\n",
    "\teta.idetablissement,\n",
    "\teta.departement,\n",
    "\teta.siren,\n",
    "\teta.geores_lat,\n",
    "\teta.geores_lon,\n",
    "\teta.nb_agrements,\n",
    "\teta.nb_inspections,\n",
    "\tCAST (eta.moy_score*10 AS INTEGER) as moy_score,\n",
    "\teta.commune_norm,\n",
    "\tact.idactivite,\n",
    "\tact.categorie_frais,\n",
    "\tCASE \n",
    "      WHEN ins.synthese_eval = 'Très satisfaisant'  THEN 4\n",
    "      WHEN ins.synthese_eval = 'Satisfaisant'  THEN 3\n",
    "      WHEN ins.synthese_eval = 'A améliorer'  THEN 2\n",
    "      WHEN ins.synthese_eval = 'A corriger de manière urgente'  THEN 1\n",
    "\tEND\tas synthese_eval\n",
    "from inspection ins\n",
    "join etablissement eta on ins.idetablissement = eta.idetablissement\n",
    "join activite act on ins.idactivite = act.idactivite\n",
    "order by eta.idetablissement\n",
    "\"\"\""
   ]
  },
  {
   "cell_type": "code",
   "execution_count": null,
   "metadata": {},
   "outputs": [],
   "source": [
    "df = pd.read_sql_query(sqlForTraining, model.session.connection())\n",
    "\n",
    "df['moy_score'].astype('int')\n",
    "\n",
    "#df = df.sample(frac=1).reset_index(drop=True)\n",
    "\n",
    "df.info()"
   ]
  },
  {
   "cell_type": "code",
   "execution_count": null,
   "metadata": {},
   "outputs": [],
   "source": [
    "X = df[[ 'commune_norm', 'geores_lat', 'geores_lon', 'siren', 'categorie_frais', 'nb_agrements', 'nb_inspections', 'departement', 'idactivite']]\n",
    "X['categorie_frais'] = X['categorie_frais'].astype('int')\n",
    "\n",
    "# creating instance of labelencoder\n",
    "labelencoder = LabelEncoder()\n",
    "# Assigning numerical values and storing in another column\n",
    "X['siren'] = labelencoder.fit_transform(X['siren'])\n",
    "X['commune_norm'] = labelencoder.fit_transform(X['commune_norm'])\n",
    "\n",
    "y = df['synthese_eval']"
   ]
  },
  {
   "cell_type": "code",
   "execution_count": null,
   "metadata": {},
   "outputs": [],
   "source": [
    "print(np.unique(y, return_counts=True))"
   ]
  },
  {
   "cell_type": "code",
   "execution_count": null,
   "metadata": {},
   "outputs": [],
   "source": [
    "# X.info()"
   ]
  },
  {
   "cell_type": "code",
   "execution_count": null,
   "metadata": {},
   "outputs": [],
   "source": [
    "r2D = Rank2D(algorithm='pearson')\n",
    "r2D.fit(X)\n",
    "r2D.transform(X)\n",
    "r2D.show()"
   ]
  },
  {
   "cell_type": "code",
   "execution_count": null,
   "metadata": {},
   "outputs": [],
   "source": [
    "# print(np.corrcoef(X, rowvar=False))\n",
    "\n",
    "# sns.pairplot(X)"
   ]
  },
  {
   "cell_type": "code",
   "execution_count": null,
   "metadata": {},
   "outputs": [],
   "source": [
    "# sns.pairplot(X[['geores_lat', 'geores_lon']])\n"
   ]
  },
  {
   "cell_type": "code",
   "execution_count": null,
   "metadata": {},
   "outputs": [],
   "source": [
    "from yellowbrick.target import FeatureCorrelation\n",
    "fc = FeatureCorrelation(method='mutual_info-regression', sort=True)\n",
    "fc.fit(X, y, discrete_features=False)\n",
    "fc.show()"
   ]
  },
  {
   "cell_type": "code",
   "execution_count": null,
   "metadata": {},
   "outputs": [],
   "source": [
    "# facilite entrainement et calcule des métrics ==> vu dans vid Ex corrigé Random Forest avec Sklearn de \"EpiMed Open Source\" : https://www.youtube.com/watch?v=ydk1mUqwsVQ\n",
    "def calculate_accuracy(classifier, X_train, X_test, y_train, y_test):\n",
    "    classifier.fit(X_train, y_train)\n",
    "    y_pred_train = classifier.predict(X_train)\n",
    "    y_pred_test = classifier.predict(X_test)\n",
    "    accuracy_train = metrics.accuracy_score(y_train, y_pred_train)\n",
    "    accuracy_test = metrics.accuracy_score(y_test, y_pred_test)\n",
    "    print(\"Train accuracy\", \"{:.3f}\".format(accuracy_train), \"Test accuracy\",\"{:.3f}\".format(accuracy_test))\n",
    "    return accuracy_train, accuracy_test, classifier"
   ]
  },
  {
   "cell_type": "code",
   "execution_count": null,
   "metadata": {},
   "outputs": [],
   "source": [
    "# Split du dataset pour train et test\n",
    "X_train, X_test, y_train, y_test = train_test_split(X, y, train_size=0.7, random_state=42,stratify=y)"
   ]
  },
  {
   "cell_type": "code",
   "execution_count": null,
   "metadata": {},
   "outputs": [],
   "source": [
    "#vérification du split de la valeur y en %age\n",
    "print(y_train.value_counts(normalize=True))\n",
    "print(y_test.value_counts(normalize=True))"
   ]
  },
  {
   "cell_type": "code",
   "execution_count": null,
   "metadata": {},
   "outputs": [],
   "source": [
    "# Vérification répartition des échantillons\n",
    "print (\"Train : \", X_train.shape, \"Test : \", X_test.shape)"
   ]
  },
  {
   "cell_type": "code",
   "execution_count": null,
   "metadata": {},
   "outputs": [],
   "source": [
    "classifier_tree = DecisionTreeClassifier(random_state=42, class_weight=\"balanced\")\n",
    "classifier_tree.get_params()"
   ]
  },
  {
   "cell_type": "code",
   "execution_count": null,
   "metadata": {},
   "outputs": [],
   "source": [
    "classifier_tree.fit(X_train,y_train)\n",
    "calculate_accuracy(classifier_tree, X_train, X_test, y_train, y_test)"
   ]
  },
  {
   "cell_type": "code",
   "execution_count": null,
   "metadata": {},
   "outputs": [],
   "source": [
    "plt.figure(figsize=(10,10), dpi=150)\n",
    "plot_tree(classifier_tree, feature_names=list(X_train.columns), filled=True)"
   ]
  },
  {
   "cell_type": "code",
   "execution_count": null,
   "metadata": {},
   "outputs": [],
   "source": [
    "clfConfusion = ConfusionMatrix(classifier_tree)\n",
    "clfConfusion.score(X_test, y_test)\n",
    "clfConfusion.show()"
   ]
  },
  {
   "cell_type": "code",
   "execution_count": null,
   "metadata": {},
   "outputs": [],
   "source": [
    "y_pred = classifier_tree.predict(X_test)\n",
    "print(classification_report(y_test, y_pred))"
   ]
  },
  {
   "cell_type": "code",
   "execution_count": null,
   "metadata": {},
   "outputs": [],
   "source": [
    "classifier_tree_2 = DecisionTreeClassifier(max_depth=30,random_state=42, class_weight=\"balanced\")\n",
    "classifier_tree_2.get_params()\n",
    "classifier_tree_2.fit(X_train,y_train)\n",
    "calculate_accuracy(classifier_tree_2, X_train, X_test, y_train, y_test)"
   ]
  },
  {
   "cell_type": "code",
   "execution_count": null,
   "metadata": {},
   "outputs": [],
   "source": [
    "y_pred_2 = classifier_tree_2.predict(X_test)\n",
    "print(classification_report(y_test, y_pred_2))"
   ]
  },
  {
   "cell_type": "code",
   "execution_count": null,
   "metadata": {},
   "outputs": [],
   "source": [
    "clfConfusion = ConfusionMatrix(classifier_tree_2)\n",
    "clfConfusion.score(X_test, y_test)\n",
    "clfConfusion.show()"
   ]
  },
  {
   "cell_type": "code",
   "execution_count": null,
   "metadata": {},
   "outputs": [],
   "source": [
    "plt.figure(figsize=(10,10), dpi=150)\n",
    "plot_tree(classifier_tree_2, feature_names=list(X_train.columns), filled=True)"
   ]
  },
  {
   "cell_type": "code",
   "execution_count": null,
   "metadata": {},
   "outputs": [],
   "source": []
  }
 ],
 "metadata": {
  "interpreter": {
   "hash": "aaf03e452251dd34be7c0211546b3c2d68a9c113be824b513750ef8d1985cab3"
  },
  "kernelspec": {
   "display_name": "Python 3.9.9 64-bit ('ProjetAlimconfiance': conda)",
   "language": "python",
   "name": "python3"
  },
  "language_info": {
   "codemirror_mode": {
    "name": "ipython",
    "version": 3
   },
   "file_extension": ".py",
   "mimetype": "text/x-python",
   "name": "python",
   "nbconvert_exporter": "python",
   "pygments_lexer": "ipython3",
   "version": "3.9.7"
  },
  "orig_nbformat": 4
 },
 "nbformat": 4,
 "nbformat_minor": 2
}
