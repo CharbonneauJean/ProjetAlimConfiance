{
 "cells": [
  {
   "cell_type": "code",
   "execution_count": 1,
   "metadata": {},
   "outputs": [],
   "source": [
    "import pandas as pd\n",
    "import numpy as np\n",
    "import model\n",
    "import utils\n",
    "import seaborn as sns\n",
    "\n",
    "from sklearn.model_selection import train_test_split\n",
    "from sklearn.preprocessing import LabelEncoder"
   ]
  },
  {
   "cell_type": "code",
   "execution_count": 2,
   "metadata": {},
   "outputs": [],
   "source": [
    "sqlForTraining = \"\"\"\n",
    "select\n",
    "\tins.idinspection,\n",
    "\teta.idetablissement,\n",
    "\teta.departement,\n",
    "\teta.siren,\n",
    "\teta.geores_lat,\n",
    "\teta.geores_lon,\n",
    "\teta.nb_agrements,\n",
    "\teta.nb_inspections,\n",
    "\tCAST (eta.moy_score*10 AS INTEGER) as moy_score,\n",
    "\teta.commune_norm,\n",
    "\tact.idactivite,\n",
    "\tact.categorie_frais,\n",
    "\tCASE \n",
    "      WHEN ins.synthese_eval = 'Très satisfaisant'  THEN 4\n",
    "      WHEN ins.synthese_eval = 'Satisfaisant'  THEN 3\n",
    "      WHEN ins.synthese_eval = 'A améliorer'  THEN 2\n",
    "      WHEN ins.synthese_eval = 'A corriger de manière urgente'  THEN 1\n",
    "\tEND\tas synthese_eval\n",
    "from inspection ins\n",
    "join etablissement eta on ins.idetablissement = eta.idetablissement\n",
    "join activite act on ins.idactivite = act.idactivite\n",
    "order by eta.idetablissement\n",
    "\"\"\""
   ]
  },
  {
   "cell_type": "code",
   "execution_count": 3,
   "metadata": {},
   "outputs": [],
   "source": [
    "df = pd.read_sql_query(sqlForTraining, model.session.connection())"
   ]
  },
  {
   "cell_type": "code",
   "execution_count": 4,
   "metadata": {},
   "outputs": [],
   "source": [
    "df = utils.fillWords(df)\n",
    "\n",
    "df['moy_score'].astype('int')\n",
    "\n",
    "df = df.sample(frac=1).reset_index(drop=True)"
   ]
  },
  {
   "cell_type": "code",
   "execution_count": 5,
   "metadata": {},
   "outputs": [
    {
     "data": {
      "text/html": [
       "<div>\n",
       "<style scoped>\n",
       "    .dataframe tbody tr th:only-of-type {\n",
       "        vertical-align: middle;\n",
       "    }\n",
       "\n",
       "    .dataframe tbody tr th {\n",
       "        vertical-align: top;\n",
       "    }\n",
       "\n",
       "    .dataframe thead th {\n",
       "        text-align: right;\n",
       "    }\n",
       "</style>\n",
       "<table border=\"1\" class=\"dataframe\">\n",
       "  <thead>\n",
       "    <tr style=\"text-align: right;\">\n",
       "      <th></th>\n",
       "      <th>idinspection</th>\n",
       "      <th>idetablissement</th>\n",
       "      <th>departement</th>\n",
       "      <th>siren</th>\n",
       "      <th>geores_lat</th>\n",
       "      <th>geores_lon</th>\n",
       "      <th>nb_agrements</th>\n",
       "      <th>nb_inspections</th>\n",
       "      <th>moy_score</th>\n",
       "      <th>commune_norm</th>\n",
       "      <th>...</th>\n",
       "      <th>word04</th>\n",
       "      <th>word05</th>\n",
       "      <th>word06</th>\n",
       "      <th>word07</th>\n",
       "      <th>word08</th>\n",
       "      <th>word09</th>\n",
       "      <th>word10</th>\n",
       "      <th>word11</th>\n",
       "      <th>word12</th>\n",
       "      <th>word13</th>\n",
       "    </tr>\n",
       "  </thead>\n",
       "  <tbody>\n",
       "    <tr>\n",
       "      <th>12070</th>\n",
       "      <td>21141</td>\n",
       "      <td>17360</td>\n",
       "      <td>63</td>\n",
       "      <td>751785429</td>\n",
       "      <td>45.343664</td>\n",
       "      <td>3.040339</td>\n",
       "      <td>1</td>\n",
       "      <td>2</td>\n",
       "      <td>40</td>\n",
       "      <td>anzat le luguet</td>\n",
       "      <td>...</td>\n",
       "      <td>volaille</td>\n",
       "      <td>maison</td>\n",
       "      <td>ourcq</td>\n",
       "      <td>lauze</td>\n",
       "      <td>NaN</td>\n",
       "      <td>NaN</td>\n",
       "      <td>NaN</td>\n",
       "      <td>NaN</td>\n",
       "      <td>NaN</td>\n",
       "      <td>NaN</td>\n",
       "    </tr>\n",
       "    <tr>\n",
       "      <th>18218</th>\n",
       "      <td>6889</td>\n",
       "      <td>5940</td>\n",
       "      <td>16</td>\n",
       "      <td>344695226</td>\n",
       "      <td>45.958616</td>\n",
       "      <td>0.263200</td>\n",
       "      <td>1</td>\n",
       "      <td>2</td>\n",
       "      <td>35</td>\n",
       "      <td>poursac</td>\n",
       "      <td>...</td>\n",
       "      <td>bouheret</td>\n",
       "      <td>hougue</td>\n",
       "      <td>pignol</td>\n",
       "      <td>cudraz</td>\n",
       "      <td>ecole</td>\n",
       "      <td>earl</td>\n",
       "      <td>NaN</td>\n",
       "      <td>NaN</td>\n",
       "      <td>NaN</td>\n",
       "      <td>NaN</td>\n",
       "    </tr>\n",
       "    <tr>\n",
       "      <th>26491</th>\n",
       "      <td>4471</td>\n",
       "      <td>4108</td>\n",
       "      <td>94</td>\n",
       "      <td>311799456</td>\n",
       "      <td>48.748808</td>\n",
       "      <td>2.393900</td>\n",
       "      <td>1</td>\n",
       "      <td>1</td>\n",
       "      <td>40</td>\n",
       "      <td>orly</td>\n",
       "      <td>...</td>\n",
       "      <td>viandes</td>\n",
       "      <td>laitiers</td>\n",
       "      <td>centre</td>\n",
       "      <td>vert</td>\n",
       "      <td>chaine</td>\n",
       "      <td>yvan</td>\n",
       "      <td>carnes</td>\n",
       "      <td>NaN</td>\n",
       "      <td>NaN</td>\n",
       "      <td>NaN</td>\n",
       "    </tr>\n",
       "    <tr>\n",
       "      <th>24817</th>\n",
       "      <td>14947</td>\n",
       "      <td>12280</td>\n",
       "      <td>72</td>\n",
       "      <td>479718470</td>\n",
       "      <td>48.122579</td>\n",
       "      <td>-0.016725</td>\n",
       "      <td>0</td>\n",
       "      <td>1</td>\n",
       "      <td>30</td>\n",
       "      <td>conlie</td>\n",
       "      <td>...</td>\n",
       "      <td>ordener</td>\n",
       "      <td>produits</td>\n",
       "      <td>clemenceau</td>\n",
       "      <td>caro</td>\n",
       "      <td>carnes</td>\n",
       "      <td>NaN</td>\n",
       "      <td>NaN</td>\n",
       "      <td>NaN</td>\n",
       "      <td>NaN</td>\n",
       "      <td>NaN</td>\n",
       "    </tr>\n",
       "    <tr>\n",
       "      <th>30216</th>\n",
       "      <td>25870</td>\n",
       "      <td>21473</td>\n",
       "      <td>60</td>\n",
       "      <td>814124830</td>\n",
       "      <td>49.416348</td>\n",
       "      <td>2.826367</td>\n",
       "      <td>0</td>\n",
       "      <td>2</td>\n",
       "      <td>30</td>\n",
       "      <td>compiegne</td>\n",
       "      <td>...</td>\n",
       "      <td>bonheur</td>\n",
       "      <td>sarl</td>\n",
       "      <td>volvic</td>\n",
       "      <td>NaN</td>\n",
       "      <td>NaN</td>\n",
       "      <td>NaN</td>\n",
       "      <td>NaN</td>\n",
       "      <td>NaN</td>\n",
       "      <td>NaN</td>\n",
       "      <td>NaN</td>\n",
       "    </tr>\n",
       "  </tbody>\n",
       "</table>\n",
       "<p>5 rows × 26 columns</p>\n",
       "</div>"
      ],
      "text/plain": [
       "       idinspection  idetablissement  departement      siren  geores_lat  \\\n",
       "12070         21141            17360           63  751785429   45.343664   \n",
       "18218          6889             5940           16  344695226   45.958616   \n",
       "26491          4471             4108           94  311799456   48.748808   \n",
       "24817         14947            12280           72  479718470   48.122579   \n",
       "30216         25870            21473           60  814124830   49.416348   \n",
       "\n",
       "       geores_lon  nb_agrements  nb_inspections  moy_score     commune_norm  \\\n",
       "12070    3.040339             1               2         40  anzat le luguet   \n",
       "18218    0.263200             1               2         35          poursac   \n",
       "26491    2.393900             1               1         40             orly   \n",
       "24817   -0.016725             0               1         30           conlie   \n",
       "30216    2.826367             0               2         30        compiegne   \n",
       "\n",
       "       ...    word04    word05      word06  word07  word08 word09  word10  \\\n",
       "12070  ...  volaille    maison       ourcq   lauze     NaN    NaN     NaN   \n",
       "18218  ...  bouheret    hougue      pignol  cudraz   ecole   earl     NaN   \n",
       "26491  ...   viandes  laitiers      centre    vert  chaine   yvan  carnes   \n",
       "24817  ...   ordener  produits  clemenceau    caro  carnes    NaN     NaN   \n",
       "30216  ...   bonheur      sarl      volvic     NaN     NaN    NaN     NaN   \n",
       "\n",
       "      word11 word12 word13  \n",
       "12070    NaN    NaN    NaN  \n",
       "18218    NaN    NaN    NaN  \n",
       "26491    NaN    NaN    NaN  \n",
       "24817    NaN    NaN    NaN  \n",
       "30216    NaN    NaN    NaN  \n",
       "\n",
       "[5 rows x 26 columns]"
      ]
     },
     "execution_count": 5,
     "metadata": {},
     "output_type": "execute_result"
    }
   ],
   "source": [
    "df.sample(5)"
   ]
  },
  {
   "cell_type": "code",
   "execution_count": null,
   "metadata": {},
   "outputs": [],
   "source": [
    "df[['word01', 'word02', 'word03', 'word04', 'word05', 'word06', 'word07', 'word08', 'word09', 'word10', 'word11', 'word12', 'word13']] = df[['word01', 'word02', 'word03', 'word04', 'word05', 'word06', 'word07', 'word08', 'word09', 'word10', 'word11', 'word12', 'word13']].fillna('')"
   ]
  },
  {
   "cell_type": "code",
   "execution_count": null,
   "metadata": {},
   "outputs": [],
   "source": [
    "X = df[[ 'geores_lat', 'geores_lon', 'categorie_frais', 'nb_agrements', 'nb_inspections', 'departement', 'idactivite', 'word01', 'word02', 'word03', 'word04', 'word05', 'word06', 'word07', 'word08', 'word09', 'word10', 'word11', 'word12', 'word13']]\n",
    "X['categorie_frais'] = X['categorie_frais'].astype('int')\n"
   ]
  },
  {
   "cell_type": "code",
   "execution_count": null,
   "metadata": {},
   "outputs": [],
   "source": []
  },
  {
   "cell_type": "code",
   "execution_count": null,
   "metadata": {},
   "outputs": [],
   "source": [
    "# creating instance of labelencoder\n",
    "labelencoder = LabelEncoder()\n",
    "# Assigning numerical values and storing in another column\n",
    "X['word01'] = labelencoder.fit_transform(X['word01'])\n",
    "X['word02'] = labelencoder.fit_transform(X['word02'])\n",
    "X['word03'] = labelencoder.fit_transform(X['word03'])\n",
    "X['word04'] = labelencoder.fit_transform(X['word04'])\n",
    "X['word05'] = labelencoder.fit_transform(X['word05'])\n",
    "X['word06'] = labelencoder.fit_transform(X['word06'])\n",
    "X['word07'] = labelencoder.fit_transform(X['word07'])\n",
    "X['word08'] = labelencoder.fit_transform(X['word08'])\n",
    "X['word09'] = labelencoder.fit_transform(X['word09'])\n",
    "X['word10'] = labelencoder.fit_transform(X['word10'])\n",
    "X['word11'] = labelencoder.fit_transform(X['word11'])\n",
    "X['word12'] = labelencoder.fit_transform(X['word12'])\n",
    "X['word13'] = labelencoder.fit_transform(X['word13'])\n"
   ]
  },
  {
   "cell_type": "code",
   "execution_count": null,
   "metadata": {},
   "outputs": [],
   "source": [
    "y = df['synthese_eval']"
   ]
  },
  {
   "cell_type": "code",
   "execution_count": null,
   "metadata": {},
   "outputs": [],
   "source": [
    "X.sample(5)"
   ]
  },
  {
   "cell_type": "code",
   "execution_count": null,
   "metadata": {},
   "outputs": [],
   "source": [
    "XTrain, XTest, yTrain, yTest = train_test_split(X, y, train_size=0.8, random_state=42, stratify=y)"
   ]
  },
  {
   "cell_type": "code",
   "execution_count": null,
   "metadata": {},
   "outputs": [],
   "source": [
    "XTrain.sample(5)"
   ]
  },
  {
   "cell_type": "code",
   "execution_count": null,
   "metadata": {},
   "outputs": [],
   "source": [
    "XTest.sample(5)"
   ]
  },
  {
   "cell_type": "code",
   "execution_count": null,
   "metadata": {},
   "outputs": [],
   "source": [
    "from sklearn.preprocessing import StandardScaler\n",
    "stdSc = StandardScaler(with_mean=False)\n",
    "ZTrain = stdSc.fit_transform(XTrain)\n",
    "ZTest = stdSc.transform(XTest)"
   ]
  },
  {
   "cell_type": "code",
   "execution_count": null,
   "metadata": {},
   "outputs": [],
   "source": [
    "from xgboost import XGBClassifier\n",
    "\n",
    "reg = XGBClassifier(\n",
    "    learning_rate =0.01,\n",
    "    n_estimators=1000,\n",
    "    max_depth=20,\n",
    "    nthread=6,\n",
    "    verbosity=0\n",
    "    )\n",
    "\n",
    "reg.fit(ZTrain, yTrain)\n",
    "\n",
    "yPred = reg.predict(ZTest)"
   ]
  },
  {
   "cell_type": "code",
   "execution_count": null,
   "metadata": {},
   "outputs": [],
   "source": [
    "from yellowbrick.model_selection import FeatureImportances\n",
    "clfFI = FeatureImportances(reg, relative=False, labels=XTrain.columns)\n",
    "clfFI.fit(ZTrain, yTrain)\n",
    "clfFI.show()"
   ]
  },
  {
   "cell_type": "code",
   "execution_count": null,
   "metadata": {},
   "outputs": [],
   "source": [
    "from yellowbrick.classifier import ConfusionMatrix\n",
    "clfConfusion = ConfusionMatrix(reg)\n",
    "clfConfusion.score(ZTest, yTest)\n",
    "clfConfusion.show()"
   ]
  },
  {
   "cell_type": "code",
   "execution_count": null,
   "metadata": {},
   "outputs": [],
   "source": [
    "from sklearn.metrics import classification_report\n",
    "\n",
    "print(classification_report(yTest, yPred))"
   ]
  }
 ],
 "metadata": {
  "interpreter": {
   "hash": "aaf03e452251dd34be7c0211546b3c2d68a9c113be824b513750ef8d1985cab3"
  },
  "kernelspec": {
   "display_name": "Python 3.9.9 64-bit ('ProjetAlimconfiance': conda)",
   "language": "python",
   "name": "python3"
  },
  "language_info": {
   "codemirror_mode": {
    "name": "ipython",
    "version": 3
   },
   "file_extension": ".py",
   "mimetype": "text/x-python",
   "name": "python",
   "nbconvert_exporter": "python",
   "pygments_lexer": "ipython3",
   "version": "3.9.9"
  },
  "orig_nbformat": 4
 },
 "nbformat": 4,
 "nbformat_minor": 2
}
