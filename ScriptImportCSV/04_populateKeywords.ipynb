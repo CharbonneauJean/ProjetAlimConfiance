{
 "cells": [
  {
   "cell_type": "code",
   "execution_count": 1,
   "metadata": {},
   "outputs": [],
   "source": [
    "import pandas as pd\n",
    "import utils\n",
    "import model"
   ]
  },
  {
   "cell_type": "code",
   "execution_count": 2,
   "metadata": {},
   "outputs": [],
   "source": [
    "stmt = model.session.execute(\"\"\"\n",
    "    select\n",
    "        idinspection,\n",
    "        numero_inspection,\n",
    "        synthese_eval,\n",
    "\n",
    "        CASE \n",
    "            WHEN numero_agrement is null  THEN ''\n",
    "            ELSE numero_agrement\n",
    "        END\tnum_agrement,\n",
    "\n",
    "        siret,\n",
    "        libelle_etablissement,\n",
    "        adresse,\n",
    "        code_postal,\n",
    "        commune_norm,\n",
    "        libelle_activite\n",
    "    from inspection ins\n",
    "    join etablissement eta on ins.idetablissement = eta.idetablissement\n",
    "    join activite act on ins.idactivite = act.idactivite\n",
    "\"\"\")\n",
    "\n",
    "commitCount = 0\n",
    "\n",
    "for row in stmt:\n",
    "    idinspection = int(row[0])\n",
    "    toSplit = utils.normalisation_nom_ville(str(row[2]).strip()) + ' ' + utils.normalisation_nom_ville(str(row[3]).strip()) + ' ' + utils.normalisation_nom_ville(str(row[4]).strip()) + ' ' + utils.normalisation_nom_ville(str(row[5]).strip()) + ' ' + utils.normalisation_nom_ville(str(row[6]).strip()) + ' ' + utils.normalisation_nom_ville(str(row[7]).strip()) + ' ' + utils.normalisation_nom_ville(str(row[8]).strip()) + ' ' + utils.normalisation_nom_ville(str(row[9]).strip())\n",
    "    toSplit = toSplit.replace('.', ' ')\n",
    "    toSplit = toSplit.replace(',',' ')\n",
    "    toSplit = toSplit.replace('/',' ')\n",
    "    toSplit = toSplit.replace('!',' ')\n",
    "    toSplit = toSplit.replace('\"',' ')\n",
    "    toSplit = toSplit.replace('#',' ')\n",
    "    toSplit = toSplit.replace('%',' ')\n",
    "    toSplit = toSplit.replace('&',' ')\n",
    "    toSplit = toSplit.replace('(',' ')\n",
    "    toSplit = toSplit.replace(')',' ')\n",
    "    toSplit = toSplit.replace('*',' ')\n",
    "    toSplit = toSplit.replace('+',' ')\n",
    "    toSplit = toSplit.replace(':',' ')\n",
    "    toSplit = toSplit.replace('?',' ')\n",
    "    toSplit = toSplit.replace('@',' ')\n",
    "    toSplit = toSplit.replace('[',' ')\n",
    "    toSplit = toSplit.replace(']',' ')\n",
    "    toSplit = toSplit.replace('_',' ')\n",
    "    toSplit = toSplit.replace('|',' ')\n",
    "    toSplit = toSplit.replace('\\t',' ')\n",
    "    toSplit = toSplit.replace('    ',' ')\n",
    "    toSplit = toSplit.replace('   ',' ')\n",
    "    toSplit = toSplit.replace('  ',' ')\n",
    "\n",
    "    toSplit = toSplit + ' ' + str(row[1])\n",
    "\n",
    "    strArr = toSplit.split(' ')\n",
    "\n",
    "    for thisWord in strArr:\n",
    "        if(len(thisWord) > 2):\n",
    "            newWord = model.MotsCle()\n",
    "            newWord.motcle = thisWord.strip()\n",
    "            stmt = model.session.execute(f\"SELECT 1 FROM mots_cles WHERE motcle = '{newWord.motcle}' group by motcle;\")\n",
    "            if(not stmt.fetchone()):\n",
    "                model.session.add(newWord)\n",
    "                model.session.commit()\n",
    "                model.session.refresh(newWord)\n",
    "\n",
    "                stmt = model.session.execute(f\"INSERT INTO public.motcle_inspection(idinspection, idmotcle)\tVALUES ({idinspection}, {newWord.idmotcle});\")\n",
    "                model.session.commit()\n",
    "            else:\n",
    "                idMotCle = model.session.execute(f\"SELECT idmotcle FROM mots_cles WHERE motcle = '{newWord.motcle}';\").fetchone()['idmotcle']\n",
    "                stmt = model.session.execute(f\"SELECT 1 FROM motcle_inspection WHERE idinspection = {idinspection} and idmotcle={idMotCle}\")\n",
    "                if(not stmt.fetchone()):\n",
    "                    stmt = model.session.execute(f\"INSERT INTO public.motcle_inspection(idinspection, idmotcle)\tVALUES ({idinspection}, {idMotCle});\")\n",
    "                    model.session.commit()\n",
    "\n",
    "\n",
    "\n",
    "model.session.commit()\n",
    "\n",
    "\n",
    "# stmt = model.session.execute(\"UPDATE etablissement set nb_agrements=0 where nb_agrements is null\")\n",
    "# model.session.commit()"
   ]
  },
  {
   "cell_type": "code",
   "execution_count": null,
   "metadata": {},
   "outputs": [],
   "source": [
    "model.session.flush()"
   ]
  },
  {
   "cell_type": "code",
   "execution_count": null,
   "metadata": {},
   "outputs": [],
   "source": []
  }
 ],
 "metadata": {
  "interpreter": {
   "hash": "aaf03e452251dd34be7c0211546b3c2d68a9c113be824b513750ef8d1985cab3"
  },
  "kernelspec": {
   "display_name": "Python 3.9.9 64-bit ('ProjetAlimconfiance': conda)",
   "language": "python",
   "name": "python3"
  },
  "language_info": {
   "codemirror_mode": {
    "name": "ipython",
    "version": 3
   },
   "file_extension": ".py",
   "mimetype": "text/x-python",
   "name": "python",
   "nbconvert_exporter": "python",
   "pygments_lexer": "ipython3",
   "version": "3.9.9"
  },
  "orig_nbformat": 4
 },
 "nbformat": 4,
 "nbformat_minor": 2
}
