{
 "cells": [
  {
   "cell_type": "code",
   "execution_count": null,
   "metadata": {},
   "outputs": [],
   "source": [
    "import pandas as pd\n",
    "import utils\n",
    "import model"
   ]
  },
  {
   "cell_type": "code",
   "execution_count": null,
   "metadata": {},
   "outputs": [],
   "source": [
    "stmt = model.session.execute(\"\"\"\n",
    "    select\n",
    "        libelle_etablissement\n",
    "    from etablissement\n",
    "\"\"\")\n",
    "\n",
    "nbSpaces = 0\n",
    "\n",
    "for row in stmt:\n",
    "    \n",
    "    strArr = row[0].strip().split(' ')\n",
    "\n",
    "    internalCounter = 0\n",
    "    for thisStr in strArr:\n",
    "        if(len(thisStr.strip()) >3 ):\n",
    "            print(thisStr, ' ')\n",
    "\n",
    "    thisNbSpaces = internalCounter\n",
    "    if(thisNbSpaces > nbSpaces):\n",
    "        print(row[0])\n",
    "        nbSpaces = thisNbSpaces\n",
    "\n",
    "print(nbSpaces)"
   ]
  }
 ],
 "metadata": {
  "interpreter": {
   "hash": "aaf03e452251dd34be7c0211546b3c2d68a9c113be824b513750ef8d1985cab3"
  },
  "kernelspec": {
   "display_name": "Python 3.9.9 64-bit ('ProjetAlimconfiance': conda)",
   "language": "python",
   "name": "python3"
  },
  "language_info": {
   "codemirror_mode": {
    "name": "ipython",
    "version": 3
   },
   "file_extension": ".py",
   "mimetype": "text/x-python",
   "name": "python",
   "nbconvert_exporter": "python",
   "pygments_lexer": "ipython3",
   "version": "3.9.9"
  },
  "orig_nbformat": 4
 },
 "nbformat": 4,
 "nbformat_minor": 2
}
