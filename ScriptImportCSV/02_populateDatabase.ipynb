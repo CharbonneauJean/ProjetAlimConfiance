{
 "cells": [
  {
   "cell_type": "code",
   "execution_count": null,
   "metadata": {},
   "outputs": [],
   "source": [
    "import pandas as pd\n",
    "import utils\n",
    "import model"
   ]
  },
  {
   "cell_type": "code",
   "execution_count": null,
   "metadata": {},
   "outputs": [],
   "source": [
    "inspections = pd.read_csv('export_alimconfiance_clean.csv', header=0, sep=';', dtype={2 :str, 3: str, 6 : str}, parse_dates=True)"
   ]
  },
  {
   "cell_type": "code",
   "execution_count": null,
   "metadata": {},
   "outputs": [],
   "source": [
    "inspections.info()"
   ]
  },
  {
   "cell_type": "code",
   "execution_count": null,
   "metadata": {},
   "outputs": [],
   "source": [
    "    # Liste des colonnes récupérées, pour info\n",
    "    #\n",
    "    # lineIndex = row[1]\n",
    "    # APP_Libelle_etablissement = row[2]\n",
    "    # SIRET = row[3]\n",
    "    # SIREN = row[4]\n",
    "    # Adresse_2_UA = row[5]\n",
    "    # DEPARTEMENT = row[6]\n",
    "    # Code_postal = row[7]\n",
    "    # Libelle_commune = row[8]\n",
    "    # COMMUNE_NORM = row[9]\n",
    "    # Numero_inspection = row[10]\n",
    "    # Date_inspection = row[11]\n",
    "    # APP_Libelle_activite_etablissement = row[12]\n",
    "    # Synthese_eval_sanit = row[13]\n",
    "    # Agrement = row[14]\n",
    "    # geores = row[15]\n",
    "    # GEORES_LAT = row[16]\n",
    "    # GEORES_LON = row[17]\n",
    "    # ods_type_activite = row[18]"
   ]
  },
  {
   "cell_type": "code",
   "execution_count": null,
   "metadata": {},
   "outputs": [],
   "source": [
    "inspections.sample(1)"
   ]
  },
  {
   "cell_type": "code",
   "execution_count": null,
   "metadata": {},
   "outputs": [],
   "source": [
    "inspections['Synthese_eval_sanit'].value_counts()"
   ]
  },
  {
   "cell_type": "code",
   "execution_count": null,
   "metadata": {},
   "outputs": [],
   "source": [
    "inserted_activite = {}"
   ]
  },
  {
   "cell_type": "code",
   "execution_count": null,
   "metadata": {},
   "outputs": [],
   "source": [
    "def addUniqueActivite(libelle_activite, categorie_frais):\n",
    "    if(libelle_activite not in list(inserted_activite.values())):\n",
    "        activite = model.Activite(libelle_activite = libelle_activite, categorie_frais = categorie_frais)\n",
    "        model.session.add(activite)\n",
    "        model.session.commit()\n",
    "        model.session.refresh(activite)\n",
    "        inserted_activite[activite.idactivite] = activite.libelle_activite\n",
    "\n",
    "def addMultipleActivite(libelle_activite_multiple : str):\n",
    "    strArr = libelle_activite_multiple.split('|')\n",
    "    for libelle_activite in strArr:\n",
    "        addUniqueActivite(libelle_activite, False)\n",
    "\n",
    "# Ajout des activités dans la table activité\n",
    "for row in inspections.itertuples():\n",
    "    APP_Libelle_activite_etablissement = row[12]\n",
    "    ods_type_activite = row[18]\n",
    "\n",
    "    if(ods_type_activite == 'Autres'):\n",
    "        if('|' in APP_Libelle_activite_etablissement):\n",
    "            # print(\"Multi activity detected\", APP_Libelle_activite_etablissement)\n",
    "            addMultipleActivite(APP_Libelle_activite_etablissement)\n",
    "        else:\n",
    "            # print('Single activity detected')\n",
    "            addUniqueActivite(APP_Libelle_activite_etablissement, False)\n",
    "    else:\n",
    "        # print('FRESH activity detected')\n",
    "        addUniqueActivite(APP_Libelle_activite_etablissement + \",\" + ods_type_activite, True)       \n"
   ]
  },
  {
   "cell_type": "code",
   "execution_count": null,
   "metadata": {},
   "outputs": [],
   "source": [
    "inserted_etablissement = {}"
   ]
  },
  {
   "cell_type": "code",
   "execution_count": null,
   "metadata": {},
   "outputs": [],
   "source": [
    "def addUniqueEtablissement(\n",
    "        libelle_etablissement,\n",
    "        siret,\n",
    "        siren,\n",
    "        adresse,\n",
    "        departement,\n",
    "        code_postal,\n",
    "        commune,\n",
    "        commune_norm,\n",
    "        geores,\n",
    "        geores_lat,\n",
    "        geores_lon):\n",
    "    uniqueEtabHash = libelle_etablissement.strip().lower() + siret.strip() + commune_norm.strip()\n",
    "\n",
    "    if(uniqueEtabHash not in list(inserted_etablissement.keys())):\n",
    "        etablissement = model.Etablissement(\n",
    "            libelle_etablissement = libelle_etablissement,\n",
    "            siret = siret,\n",
    "            siren = siren,\n",
    "            adresse = adresse,\n",
    "            departement = departement,\n",
    "            code_postal = code_postal,\n",
    "            commune = commune,\n",
    "            commune_norm = commune_norm,\n",
    "            geores = geores,\n",
    "            geores_lat = geores_lat,\n",
    "            geores_lon = geores_lon\n",
    "        )\n",
    "        model.session.add(etablissement)\n",
    "        model.session.commit()\n",
    "        model.session.refresh(etablissement)\n",
    "        inserted_etablissement[uniqueEtabHash] = etablissement.idetablissement\n",
    "\n",
    "# Ajout des établissements dans la table etablissement\n",
    "for row in inspections.itertuples():\n",
    "    APP_Libelle_etablissement = row[2]\n",
    "    SIRET = row[3]\n",
    "    SIREN = row[4]\n",
    "    Adresse_2_UA = row[5]\n",
    "    DEPARTEMENT = row[6]\n",
    "    Code_postal = row[7]\n",
    "    Libelle_commune = row[8]\n",
    "    COMMUNE_NORM = row[9]\n",
    "    geores = row[15]\n",
    "    GEORES_LAT = row[16]\n",
    "    GEORES_LON = row[17]\n",
    "\n",
    "    addUniqueEtablissement(\n",
    "        APP_Libelle_etablissement,\n",
    "        SIRET,\n",
    "        SIREN,\n",
    "        Adresse_2_UA,\n",
    "        DEPARTEMENT,\n",
    "        Code_postal,\n",
    "        Libelle_commune,\n",
    "        COMMUNE_NORM,\n",
    "        geores,\n",
    "        GEORES_LAT,\n",
    "        GEORES_LON\n",
    "    )"
   ]
  },
  {
   "cell_type": "code",
   "execution_count": null,
   "metadata": {},
   "outputs": [],
   "source": [
    "inserted_inspections = {}"
   ]
  },
  {
   "cell_type": "code",
   "execution_count": null,
   "metadata": {},
   "outputs": [],
   "source": [
    "def addUniqueInspection(numero_inspection, date_inspection, synthese_eval, numero_agrement, idetablissement, idactivite):\n",
    "    uniqueInspectionHash = numero_inspection.strip() + ',' + str(idetablissement) + ',' + str(idactivite) + str(date_inspection)\n",
    "\n",
    "    if(uniqueInspectionHash not in list(inserted_inspections.keys())):\n",
    "        inspection = model.Inspection(\n",
    "            numero_inspection = numero_inspection,\n",
    "            date_inspection = date_inspection,\n",
    "            synthese_eval = synthese_eval,\n",
    "            numero_agrement = numero_agrement,\n",
    "            idetablissement = idetablissement,\n",
    "            idactivite = idactivite\n",
    "        )\n",
    "\n",
    "        model.session.add(inspection)\n",
    "        model.session.commit()\n",
    "        model.session.refresh(inspection)\n",
    "        inserted_inspections[uniqueInspectionHash] = inspection.idinspection\n",
    "\n",
    "# Ajout des inspections dans la table inspection\n",
    "for row in inspections.itertuples():\n",
    "    APP_Libelle_etablissement = row[2]\n",
    "    SIRET = row[3]\n",
    "    COMMUNE_NORM = row[9]\n",
    "    Numero_inspection = row[10]\n",
    "    Date_inspection = row[11]\n",
    "    APP_Libelle_activite_etablissement = row[12]\n",
    "    Synthese_eval_sanit = row[13]\n",
    "    Agrement = row[14]\n",
    "    ods_type_activite = row[18]\n",
    "\n",
    "    uniqueEtabHash = APP_Libelle_etablissement.strip().lower() + SIRET.strip() + COMMUNE_NORM.strip()\n",
    "    thisIdEtablissement = inserted_etablissement.get(uniqueEtabHash)\n",
    "\n",
    "    if(ods_type_activite == 'Autres'):\n",
    "        if('|' in APP_Libelle_activite_etablissement):\n",
    "            # Multi inspection detected\n",
    "                strArr = APP_Libelle_activite_etablissement.split('|')\n",
    "                for libelle_activite in strArr:\n",
    "                    thisIdActivite = utils.get_key(libelle_activite, inserted_activite)\n",
    "                    addUniqueInspection(Numero_inspection, Date_inspection, Synthese_eval_sanit, Agrement, thisIdEtablissement, thisIdActivite)\n",
    "        else:\n",
    "            # Single inspection detected\n",
    "            thisIdActivite = utils.get_key(APP_Libelle_activite_etablissement, inserted_activite)\n",
    "            addUniqueInspection(Numero_inspection, Date_inspection, Synthese_eval_sanit, Agrement, thisIdEtablissement, thisIdActivite)\n",
    "    else:\n",
    "        # Single FRESH inspection detected\n",
    "        thisIdActivite = utils.get_key(APP_Libelle_activite_etablissement + \",\" + ods_type_activite, inserted_activite)\n",
    "        addUniqueInspection(Numero_inspection, Date_inspection, Synthese_eval_sanit, Agrement, thisIdEtablissement, thisIdActivite)\n",
    "\n",
    "    "
   ]
  },
  {
   "cell_type": "code",
   "execution_count": null,
   "metadata": {},
   "outputs": [],
   "source": [
    "# On clean la colonne numero_agrement des valeur NaN\n",
    "model.session.execute(\"update inspection set numero_agrement = null where numero_agrement = 'NaN'\")\n",
    "model.session.commit()"
   ]
  },
  {
   "cell_type": "code",
   "execution_count": null,
   "metadata": {},
   "outputs": [],
   "source": [
    "score_tres_satisfaisant = 4\n",
    "score_satisfaisant = 3\n",
    "score_a_ameliorer = 2\n",
    "score_a_corriger_d_urgence = 1\n",
    "\n",
    "sum_scores = 0\n",
    "nb_scores = 0\n",
    "\n",
    "stmt = model.session.execute(\"select inspection.idetablissement, count(inspection.idinspection) as nbInspections from inspection group by inspection.idetablissement order by nbInspections desc\")\n",
    "for row in stmt:\n",
    "    # on va calculer l'evolution score\n",
    "    thisIdEtablissement = row[0]\n",
    "    stmt_1 = model.session.execute(f\"select synthese_eval from inspection where idetablissement = {thisIdEtablissement} order by date_inspection\")\n",
    "    for row_1 in stmt_1:\n",
    "        if(row_1[0] == \"Très satisfaisant\"):\n",
    "            sum_scores += score_tres_satisfaisant\n",
    "        elif(row_1[0] == \"Satisfaisant\"):\n",
    "            sum_scores += score_satisfaisant\n",
    "        elif(row_1[0] == \"A améliorer\"):\n",
    "            sum_scores += score_a_ameliorer\n",
    "        else:\n",
    "            sum_scores += score_a_corriger_d_urgence\n",
    "        nb_scores+=1\n",
    "    thisEvolutionScore = sum_scores/nb_scores\n",
    "    # print('Evolution score for etablissement id ', thisIdEtablissement, ' : ', str(thisEvolutionScore))\n",
    "    model.session.execute(f\"UPDATE etablissement set evolution_score={thisEvolutionScore} where idetablissement={thisIdEtablissement}\")\n",
    "    model.session.commit()\n",
    "    sum_scores=0\n",
    "    nb_scores=0\n"
   ]
  },
  {
   "cell_type": "code",
   "execution_count": null,
   "metadata": {},
   "outputs": [],
   "source": [
    "stmt = model.session.execute(\"select inspection.idetablissement, count(inspection.numero_agrement) as nbAgrements from inspection where numero_agrement is not null group by inspection.idetablissement order by nbAgrements desc\")\n",
    "\n",
    "for row in stmt:\n",
    "    # on met à jour le nombre d'agréments pour chaque établissement\n",
    "    model.session.execute(f\"UPDATE etablissement set nb_agrements={row[1]} where idetablissement={row[0]}\")\n",
    "    model.session.commit()\n",
    "\n",
    "stmt = model.session.execute(\"UPDATE etablissement set nb_agrements=0 where nb_agrements is null\")\n",
    "model.session.commit()"
   ]
  }
 ],
 "metadata": {
  "interpreter": {
   "hash": "aaf03e452251dd34be7c0211546b3c2d68a9c113be824b513750ef8d1985cab3"
  },
  "kernelspec": {
   "display_name": "Python 3.9.9 64-bit ('ProjetAlimconfiance': conda)",
   "language": "python",
   "name": "python3"
  },
  "language_info": {
   "codemirror_mode": {
    "name": "ipython",
    "version": 3
   },
   "file_extension": ".py",
   "mimetype": "text/x-python",
   "name": "python",
   "nbconvert_exporter": "python",
   "pygments_lexer": "ipython3",
   "version": "3.9.9"
  },
  "orig_nbformat": 4
 },
 "nbformat": 4,
 "nbformat_minor": 2
}
