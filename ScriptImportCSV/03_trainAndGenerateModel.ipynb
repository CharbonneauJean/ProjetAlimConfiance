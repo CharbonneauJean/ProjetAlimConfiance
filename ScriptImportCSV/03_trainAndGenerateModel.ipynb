{
 "cells": [
  {
   "cell_type": "code",
   "execution_count": null,
   "metadata": {},
   "outputs": [],
   "source": [
    "import pandas as pd\n",
    "import numpy as np\n",
    "import utils\n",
    "import model\n",
    "\n",
    "from sklearn.metrics import roc_curve, auc\n",
    "from sklearn import datasets\n",
    "from sklearn.multiclass import OneVsRestClassifier\n",
    "from sklearn.svm import LinearSVC\n",
    "from sklearn.preprocessing import label_binarize\n",
    "from sklearn.model_selection import train_test_split\n",
    "import matplotlib.pyplot as plt"
   ]
  },
  {
   "cell_type": "code",
   "execution_count": null,
   "metadata": {},
   "outputs": [],
   "source": [
    "sqlForTraining = \"\"\"\n",
    "select\n",
    "\teta.idetablissement,\n",
    "\teta.departement,\n",
    "\teta.siren,\n",
    "\teta.geores_lat,\n",
    "\teta.geores_lon,\n",
    "\teta.nb_agrements,\n",
    "\teta.evolution_score,\n",
    "\tact.idactivite,\n",
    "\tact.categorie_frais,\n",
    "\tCASE \n",
    "      WHEN ins.synthese_eval = 'Très satisfaisant'  THEN 4\n",
    "      WHEN ins.synthese_eval = 'Satisfaisant'  THEN 3\n",
    "      WHEN ins.synthese_eval = 'A améliorer'  THEN 2\n",
    "      WHEN ins.synthese_eval = 'A corriger de manière urgente'  THEN 1\n",
    "\tEND\tas synthese_eval\n",
    "from inspection ins\n",
    "join etablissement eta on ins.idetablissement = eta.idetablissement\n",
    "join activite act on ins.idactivite = act.idactivite\n",
    "order by eta.idetablissement\n",
    "\"\"\"\n",
    "\n"
   ]
  },
  {
   "cell_type": "code",
   "execution_count": null,
   "metadata": {},
   "outputs": [],
   "source": [
    "df = pd.read_sql_query(sqlForTraining, model.session.connection())\n",
    "\n",
    "df.info()"
   ]
  },
  {
   "cell_type": "code",
   "execution_count": null,
   "metadata": {},
   "outputs": [],
   "source": [
    "X = df[['geores_lat', 'geores_lon', 'nb_agrements', 'evolution_score', 'idactivite', 'categorie_frais']]\n",
    "X['categorie_frais'] = X['categorie_frais'].astype('int')\n",
    "y = df['synthese_eval']"
   ]
  },
  {
   "cell_type": "code",
   "execution_count": null,
   "metadata": {},
   "outputs": [],
   "source": [
    "print(np.unique(y, return_counts=True))"
   ]
  },
  {
   "cell_type": "code",
   "execution_count": null,
   "metadata": {},
   "outputs": [],
   "source": [
    "X.info()"
   ]
  },
  {
   "cell_type": "code",
   "execution_count": null,
   "metadata": {},
   "outputs": [],
   "source": [
    "from yellowbrick.features import Rank2D\n",
    "\n",
    "r2D = Rank2D(algorithm='pearson')\n",
    "r2D.fit(X)\n",
    "r2D.transform(X)\n",
    "r2D.show()"
   ]
  },
  {
   "cell_type": "code",
   "execution_count": null,
   "metadata": {},
   "outputs": [],
   "source": [
    "print(np.corrcoef(X, rowvar=False))"
   ]
  },
  {
   "cell_type": "code",
   "execution_count": null,
   "metadata": {},
   "outputs": [],
   "source": [
    "from yellowbrick.target import FeatureCorrelation\n",
    "fc = FeatureCorrelation(method='mutual_info-classification', sort=True)\n",
    "fc.fit(X, y, discrete_features=False)\n",
    "fc.show()"
   ]
  },
  {
   "cell_type": "code",
   "execution_count": null,
   "metadata": {},
   "outputs": [],
   "source": [
    "XTrain, XTest, yTrain, yTest = train_test_split(X, y, train_size=0.8, random_state=42, stratify=y)"
   ]
  },
  {
   "cell_type": "code",
   "execution_count": null,
   "metadata": {},
   "outputs": [],
   "source": [
    "print(yTrain.value_counts(normalize=True))\n",
    "print(yTest.value_counts(normalize=True))\n"
   ]
  },
  {
   "cell_type": "code",
   "execution_count": null,
   "metadata": {},
   "outputs": [],
   "source": [
    "from sklearn.preprocessing import StandardScaler\n",
    "stdSc = StandardScaler()"
   ]
  },
  {
   "cell_type": "code",
   "execution_count": null,
   "metadata": {},
   "outputs": [],
   "source": [
    "ZTrain = stdSc.fit_transform(XTrain)\n",
    "ZTest = stdSc.transform(XTest)"
   ]
  },
  {
   "cell_type": "code",
   "execution_count": null,
   "metadata": {},
   "outputs": [],
   "source": [
    "from sklearn.linear_model import LogisticRegression\n",
    "reg = LogisticRegression(solver='liblinear')\n",
    "reg.fit(ZTrain, yTrain)"
   ]
  },
  {
   "cell_type": "code",
   "execution_count": null,
   "metadata": {},
   "outputs": [],
   "source": [
    "from yellowbrick.model_selection import FeatureImportances\n",
    "clfFI = FeatureImportances(LogisticRegression(solver='liblinear'), relative=False, topn=6, labels=XTrain.columns)\n",
    "clfFI.fit(ZTrain, yTrain)\n",
    "clfFI.show()"
   ]
  },
  {
   "cell_type": "code",
   "execution_count": null,
   "metadata": {},
   "outputs": [],
   "source": [
    "from yellowbrick.model_selection import RFECV\n",
    "from sklearn.metrics import make_scorer, f1_score\n",
    "clfFE = RFECV(LogisticRegression(solver='liblinear'), cv=3, scoring=make_scorer(f1_score,average='micro'))\n",
    "clfFE.fit(ZTrain, yTrain)\n",
    "clfFE.show()"
   ]
  },
  {
   "cell_type": "code",
   "execution_count": null,
   "metadata": {},
   "outputs": [],
   "source": [
    "print(XTrain.columns[clfFE.support_==False])"
   ]
  },
  {
   "cell_type": "code",
   "execution_count": null,
   "metadata": {},
   "outputs": [],
   "source": [
    "from yellowbrick.classifier import ConfusionMatrix\n",
    "clfConfusion = ConfusionMatrix(reg)\n",
    "clfConfusion.score(ZTest, yTest)\n",
    "clfConfusion.show()"
   ]
  },
  {
   "cell_type": "code",
   "execution_count": null,
   "metadata": {},
   "outputs": [],
   "source": [
    "from yellowbrick.classifier import ClassificationReport\n",
    "clfReport = ClassificationReport(reg)\n",
    "clfReport.score(ZTest, yTest)\n",
    "clfReport.show()"
   ]
  }
 ],
 "metadata": {
  "interpreter": {
   "hash": "aaf03e452251dd34be7c0211546b3c2d68a9c113be824b513750ef8d1985cab3"
  },
  "kernelspec": {
   "display_name": "Python 3.9.9 64-bit ('ProjetAlimconfiance': conda)",
   "language": "python",
   "name": "python3"
  },
  "language_info": {
   "codemirror_mode": {
    "name": "ipython",
    "version": 3
   },
   "file_extension": ".py",
   "mimetype": "text/x-python",
   "name": "python",
   "nbconvert_exporter": "python",
   "pygments_lexer": "ipython3",
   "version": "3.9.9"
  },
  "orig_nbformat": 4
 },
 "nbformat": 4,
 "nbformat_minor": 2
}
